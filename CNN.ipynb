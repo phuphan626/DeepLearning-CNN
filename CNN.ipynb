{
 "cells": [
  {
   "cell_type": "code",
   "execution_count": 26,
   "id": "08d04131",
   "metadata": {},
   "outputs": [],
   "source": [
    "# Import libraries\n",
    "import numpy as np\n",
    "import pandas as pd\n",
    "import seaborn as sns\n",
    "import matplotlib.pyplot as plt\n",
    "# for handling imbalancing\n",
    "from imblearn.under_sampling import NearMiss\n",
    "from keras.utils import np_utils\n",
    "\n",
    "from sklearn.model_selection import train_test_split\n",
    "from sklearn.metrics import classification_report , confusion_matrix\n",
    "\n",
    "import keras\n",
    "from keras.models import Sequential\n",
    "from tensorflow.keras.optimizers import Adam\n",
    "from keras.layers import Dense, Conv2D, MaxPool2D, Flatten, Dropout, BatchNormalization\n",
    "\n",
    "# for learning rate decay\n",
    "from keras.callbacks import ReduceLROnPlateau\n",
    "from tensorflow.keras.models import Sequential\n",
    "from tensorflow.keras.layers import Dense, Conv2D,MaxPooling2D, Flatten, Dropout, BatchNormalization, AveragePooling2D\n",
    "from tensorflow.keras.optimizers import SGD\n",
    "# Scaler\n",
    "from sklearn.preprocessing import StandardScaler\n"
   ]
  },
  {
   "cell_type": "code",
   "execution_count": 3,
   "id": "bcd2eb39",
   "metadata": {},
   "outputs": [],
   "source": [
    "# Read data\n",
    "df = pd.read_csv('A_Z Handwritten Data.csv')"
   ]
  },
  {
   "cell_type": "code",
   "execution_count": 4,
   "id": "a0c0e366",
   "metadata": {},
   "outputs": [
    {
     "name": "stdout",
     "output_type": "stream",
     "text": [
      "0          0\n",
      "1          0\n",
      "2          0\n",
      "3          0\n",
      "4          0\n",
      "          ..\n",
      "372445    25\n",
      "372446    25\n",
      "372447    25\n",
      "372448    25\n",
      "372449    25\n",
      "Name: 0, Length: 372450, dtype: int64\n"
     ]
    }
   ],
   "source": [
    "print(df['0'])"
   ]
  },
  {
   "cell_type": "code",
   "execution_count": 5,
   "id": "5cc2343f",
   "metadata": {},
   "outputs": [],
   "source": [
    "# Data preprocessing\n",
    "y = df['0']\n",
    "del df['0']"
   ]
  },
  {
   "cell_type": "code",
   "execution_count": 6,
   "id": "e169a4a4",
   "metadata": {},
   "outputs": [],
   "source": [
    "x = y.replace([0,1,2,3,4,5,6,7,8,9,10,11,12,13,14,15,16,17,18,19,20,21,22,23,24,25], ['A', 'B', 'C', 'D', 'E', 'F', 'G', 'H', 'I', 'J', 'K', 'L', 'M',\n",
    "'N', 'O', 'P', 'Q', 'R', 'S', 'T', 'U', 'V', 'W', 'X', 'Y', 'Z'])"
   ]
  },
  {
   "cell_type": "code",
   "execution_count": 7,
   "id": "5382fd8b",
   "metadata": {},
   "outputs": [
    {
     "name": "stderr",
     "output_type": "stream",
     "text": [
      "/opt/anaconda3/lib/python3.8/site-packages/seaborn/_decorators.py:36: FutureWarning: Pass the following variable as a keyword arg: x. From version 0.12, the only valid positional argument will be `data`, and passing other arguments without an explicit keyword will result in an error or misinterpretation.\n",
      "  warnings.warn(\n"
     ]
    },
    {
     "data": {
      "text/plain": [
       "<AxesSubplot:xlabel='0', ylabel='count'>"
      ]
     },
     "execution_count": 7,
     "metadata": {},
     "output_type": "execute_result"
    },
    {
     "data": {
      "image/png": "[encoded data removed]",
      "text/plain": [
       "<Figure size 720x360 with 1 Axes>"
      ]
     },
     "metadata": {
      "needs_background": "light"
     },
     "output_type": "display_data"
    }
   ],
   "source": [
    "plt.figure(figsize = (10,5))\n",
    "sns.countplot(x)"
   ]
  },
  {
   "cell_type": "code",
   "execution_count": 8,
   "id": "0f1e342e",
   "metadata": {},
   "outputs": [],
   "source": [
    "nM = NearMiss()\n",
    "X_data, y_data = nM.fit_resample(df, y)"
   ]
  },
  {
   "cell_type": "code",
   "execution_count": 9,
   "id": "f409d9c6",
   "metadata": {},
   "outputs": [
    {
     "name": "stderr",
     "output_type": "stream",
     "text": [
      "/opt/anaconda3/lib/python3.8/site-packages/seaborn/_decorators.py:36: FutureWarning: Pass the following variable as a keyword arg: x. From version 0.12, the only valid positional argument will be `data`, and passing other arguments without an explicit keyword will result in an error or misinterpretation.\n",
      "  warnings.warn(\n"
     ]
    },
    {
     "data": {
      "text/plain": [
       "<AxesSubplot:xlabel='0', ylabel='count'>"
      ]
     },
     "execution_count": 9,
     "metadata": {},
     "output_type": "execute_result"
    },
    {
     "data": {
      "image/png": "[encoded data removed]",
      "text/plain": [
       "<Figure size 720x360 with 1 Axes>"
      ]
     },
     "metadata": {
      "needs_background": "light"
     },
     "output_type": "display_data"
    }
   ],
   "source": [
    "plt.figure(figsize = (10,5))\n",
    "sns.countplot(y_data)"
   ]
  },
  {
   "cell_type": "code",
   "execution_count": 10,
   "id": "8e3869ab",
   "metadata": {},
   "outputs": [
    {
     "data": {
      "text/plain": [
       "26"
      ]
     },
     "execution_count": 10,
     "metadata": {},
     "output_type": "execute_result"
    }
   ],
   "source": [
    "#One-Hot-Encoding of the target.\n",
    "y = np_utils.to_categorical(y_data)\n",
    "# Define the classification of 26 alphabets.\n",
    "num_classes = y.shape[1]\n",
    "num_classes"
   ]
  },
  {
   "cell_type": "code",
   "execution_count": 11,
   "id": "116f3c8a",
   "metadata": {},
   "outputs": [
    {
     "data": {
      "text/plain": [
       "array([[0., 0., 0., ..., 0., 0., 0.],\n",
       "       [0., 0., 0., ..., 0., 0., 0.],\n",
       "       [0., 0., 0., ..., 0., 0., 0.],\n",
       "       ...,\n",
       "       [0., 0., 0., ..., 0., 0., 0.],\n",
       "       [0., 0., 0., ..., 0., 0., 0.],\n",
       "       [0., 0., 0., ..., 0., 0., 0.]])"
      ]
     },
     "execution_count": 11,
     "metadata": {},
     "output_type": "execute_result"
    }
   ],
   "source": [
    "# Normalize data\n",
    "scaler = StandardScaler()\n",
    "X_data = scaler.fit_transform(X_data)\n",
    "X_data"
   ]
  },
  {
   "cell_type": "code",
   "execution_count": 12,
   "id": "8a09116a",
   "metadata": {},
   "outputs": [
    {
     "data": {
      "image/png": "[encoded data removed]",
      "text/plain": [
       "<Figure size 720x720 with 10 Axes>"
      ]
     },
     "metadata": {
      "needs_background": "light"
     },
     "output_type": "display_data"
    }
   ],
   "source": [
    "X_data = X_data.reshape(-1,28,28,1)\n",
    "# Showing few images\n",
    "\n",
    "f, ax = plt.subplots(2,5)\n",
    "f.set_size_inches(10,10)\n",
    "k = 0\n",
    "for i in range(2):\n",
    "    for j in range(5):\n",
    "        ax[i,j].imshow(X_data[k].reshape(28,28), cmap='gray')\n",
    "        k += 1\n",
    "    plt.tight_layout()"
   ]
  },
  {
   "cell_type": "code",
   "execution_count": 13,
   "id": "c2328a62",
   "metadata": {},
   "outputs": [],
   "source": [
    "X_train, X_test, y_train, y_test = train_test_split(X_data, y, test_size=0.2 ,random_state=1024)"
   ]
  },
  {
   "cell_type": "code",
   "execution_count": 42,
   "id": "b5f2498f",
   "metadata": {},
   "outputs": [],
   "source": [
    "# Classic Lenet architecture\n",
    "Lenet = Sequential()\n",
    "Lenet.add(Conv2D(6,(5,5), activation='sigmoid', input_shape=(28,28,1)))\n",
    "Lenet.add(AveragePooling2D(pool_size=(2, 2)))\n",
    "Lenet.add(Conv2D(16,(5, 5), activation='sigmoid'))\n",
    "Lenet.add(AveragePooling2D(pool_size=(2, 2)))\n",
    "Lenet.add(Flatten())\n",
    "Lenet.add(Dense(units=120, activation='relu'))\n",
    "Lenet.add(Dense(units=84, activation='relu'))\n",
    "Lenet.add(Dense(num_classes, activation = 'softmax'))\n",
    "Lenet.compile(loss='categorical_crossentropy', optimizer=Adam(learning_rate=0.01), metrics=['accuracy'])\n"
   ]
  },
  {
   "cell_type": "code",
   "execution_count": 43,
   "id": "1edb16b9",
   "metadata": {},
   "outputs": [
    {
     "name": "stdout",
     "output_type": "stream",
     "text": [
      "Model: \"sequential_9\"\n",
      "_________________________________________________________________\n",
      " Layer (type)                Output Shape              Param #   \n",
      "=================================================================\n",
      " conv2d_18 (Conv2D)          (None, 24, 24, 6)         156       \n",
      "                                                                 \n",
      " average_pooling2d_10 (Avera  (None, 12, 12, 6)        0         \n",
      " gePooling2D)                                                    \n",
      "                                                                 \n",
      " conv2d_19 (Conv2D)          (None, 8, 8, 16)          2416      \n",
      "                                                                 \n",
      " average_pooling2d_11 (Avera  (None, 4, 4, 16)         0         \n",
      " gePooling2D)                                                    \n",
      "                                                                 \n",
      " flatten_7 (Flatten)         (None, 256)               0         \n",
      "                                                                 \n",
      " dense_21 (Dense)            (None, 120)               30840     \n",
      "                                                                 \n",
      " dense_22 (Dense)            (None, 84)                10164     \n",
      "                                                                 \n",
      " dense_23 (Dense)            (None, 26)                2210      \n",
      "                                                                 \n",
      "=================================================================\n",
      "Total params: 45,786\n",
      "Trainable params: 45,786\n",
      "Non-trainable params: 0\n",
      "_________________________________________________________________\n",
      "None\n"
     ]
    }
   ],
   "source": [
    "print(Lenet.summary())"
   ]
  },
  {
   "cell_type": "code",
   "execution_count": 44,
   "id": "d4a249ee",
   "metadata": {},
   "outputs": [
    {
     "name": "stdout",
     "output_type": "stream",
     "text": [
      "Epoch 1/15\n",
      "182/182 [==============================] - 3s 15ms/step - loss: 1.4223 - accuracy: 0.5687 - val_loss: 0.5328 - val_accuracy: 0.8360\n",
      "Epoch 2/15\n",
      "182/182 [==============================] - 3s 15ms/step - loss: 0.3654 - accuracy: 0.8916 - val_loss: 0.3053 - val_accuracy: 0.9133\n",
      "Epoch 3/15\n",
      "182/182 [==============================] - 3s 14ms/step - loss: 0.2365 - accuracy: 0.9287 - val_loss: 0.2180 - val_accuracy: 0.9382\n",
      "Epoch 4/15\n",
      "182/182 [==============================] - 3s 14ms/step - loss: 0.1756 - accuracy: 0.9481 - val_loss: 0.2204 - val_accuracy: 0.9397\n",
      "Epoch 5/15\n",
      "182/182 [==============================] - 3s 15ms/step - loss: 0.1417 - accuracy: 0.9570 - val_loss: 0.1710 - val_accuracy: 0.9518\n",
      "Epoch 6/15\n",
      "182/182 [==============================] - 3s 15ms/step - loss: 0.1205 - accuracy: 0.9635 - val_loss: 0.1515 - val_accuracy: 0.9609\n",
      "Epoch 7/15\n",
      "182/182 [==============================] - 3s 15ms/step - loss: 0.1010 - accuracy: 0.9694 - val_loss: 0.1477 - val_accuracy: 0.9614\n",
      "Epoch 8/15\n",
      "182/182 [==============================] - 3s 15ms/step - loss: 0.0805 - accuracy: 0.9747 - val_loss: 0.1433 - val_accuracy: 0.9645\n",
      "Epoch 9/15\n",
      "182/182 [==============================] - 3s 16ms/step - loss: 0.0886 - accuracy: 0.9727 - val_loss: 0.1446 - val_accuracy: 0.9631\n",
      "Epoch 10/15\n",
      "182/182 [==============================] - 3s 17ms/step - loss: 0.0741 - accuracy: 0.9778 - val_loss: 0.1510 - val_accuracy: 0.9602\n",
      "Epoch 11/15\n",
      "182/182 [==============================] - 3s 18ms/step - loss: 0.0690 - accuracy: 0.9774 - val_loss: 0.1391 - val_accuracy: 0.9651\n",
      "Epoch 12/15\n",
      "182/182 [==============================] - 3s 16ms/step - loss: 0.0631 - accuracy: 0.9796 - val_loss: 0.1324 - val_accuracy: 0.9689\n",
      "Epoch 13/15\n",
      "182/182 [==============================] - 3s 15ms/step - loss: 0.0483 - accuracy: 0.9844 - val_loss: 0.1529 - val_accuracy: 0.9696\n",
      "Epoch 14/15\n",
      "182/182 [==============================] - 3s 15ms/step - loss: 0.0458 - accuracy: 0.9849 - val_loss: 0.1276 - val_accuracy: 0.9705\n",
      "Epoch 15/15\n",
      "182/182 [==============================] - 3s 16ms/step - loss: 0.0574 - accuracy: 0.9818 - val_loss: 0.1344 - val_accuracy: 0.9718\n"
     ]
    }
   ],
   "source": [
    "Lenet_history = Lenet.fit(X_train,y_train,epochs=15, batch_size=128, validation_data=(X_test,y_test))"
   ]
  },
  {
   "cell_type": "code",
   "execution_count": 45,
   "id": "da320d0a",
   "metadata": {},
   "outputs": [
    {
     "name": "stdout",
     "output_type": "stream",
     "text": [
      "CNN Error: 2.82%\n"
     ]
    }
   ],
   "source": [
    "scores = Lenet.evaluate(X_test,y_test, verbose=0)\n",
    "print(\"CNN Error: %.2f%%\" % (100-scores[1]*100))"
   ]
  },
  {
   "cell_type": "code",
   "execution_count": 14,
   "id": "1e3fdddf",
   "metadata": {},
   "outputs": [
    {
     "name": "stdout",
     "output_type": "stream",
     "text": [
      "Model: \"sequential\"\n",
      "_________________________________________________________________\n",
      " Layer (type)                Output Shape              Param #   \n",
      "=================================================================\n",
      " conv2d (Conv2D)             (None, 24, 24, 32)        832       \n",
      "                                                                 \n",
      " max_pooling2d (MaxPooling2D  (None, 12, 12, 32)       0         \n",
      " )                                                               \n",
      "                                                                 \n",
      " flatten (Flatten)           (None, 4608)              0         \n",
      "                                                                 \n",
      " dense (Dense)               (None, 128)               589952    \n",
      "                                                                 \n",
      " dense_1 (Dense)             (None, 26)                3354      \n",
      "                                                                 \n",
      "=================================================================\n",
      "Total params: 594,138\n",
      "Trainable params: 594,138\n",
      "Non-trainable params: 0\n",
      "_________________________________________________________________\n",
      "None\n"
     ]
    }
   ],
   "source": [
    "model = Sequential()\n",
    "model.add(Conv2D(32, (5, 5), input_shape=(28, 28, 1), activation='relu'))\n",
    "model.add(MaxPooling2D(pool_size=(2, 2)))\n",
    "model.add(Flatten())\n",
    "model.add(Dense(128, activation='relu'))\n",
    "model.add(Dense(num_classes, activation='softmax'))\n",
    "#Choose an optimizer and compile the model.\n",
    "model.compile(optimizer = Adam(learning_rate = 0.01), loss = 'categorical_crossentropy', metrics = ['accuracy'])\n",
    "#And print the summary of the model.\n",
    "print(model.summary())"
   ]
  },
  {
   "cell_type": "code",
   "execution_count": 15,
   "id": "98760866",
   "metadata": {},
   "outputs": [
    {
     "name": "stdout",
     "output_type": "stream",
     "text": [
      "Epoch 1/15\n",
      "182/182 [==============================] - 4s 19ms/step - loss: 0.6240 - accuracy: 0.8383 - val_loss: 0.3098 - val_accuracy: 0.9195\n",
      "Epoch 2/15\n",
      "182/182 [==============================] - 3s 19ms/step - loss: 0.2525 - accuracy: 0.9399 - val_loss: 0.2776 - val_accuracy: 0.9284\n",
      "Epoch 3/15\n",
      "182/182 [==============================] - 3s 19ms/step - loss: 0.2849 - accuracy: 0.9399 - val_loss: 0.1782 - val_accuracy: 0.9552\n",
      "Epoch 4/15\n",
      "182/182 [==============================] - 4s 19ms/step - loss: 0.0879 - accuracy: 0.9763 - val_loss: 0.1410 - val_accuracy: 0.9700\n",
      "Epoch 5/15\n",
      "182/182 [==============================] - 4s 21ms/step - loss: 0.0496 - accuracy: 0.9850 - val_loss: 0.1364 - val_accuracy: 0.9720\n",
      "Epoch 6/15\n",
      "182/182 [==============================] - 4s 20ms/step - loss: 0.0317 - accuracy: 0.9895 - val_loss: 0.1412 - val_accuracy: 0.9732\n",
      "Epoch 7/15\n",
      "182/182 [==============================] - 3s 17ms/step - loss: 0.0449 - accuracy: 0.9862 - val_loss: 0.1447 - val_accuracy: 0.9708\n",
      "Epoch 8/15\n",
      "182/182 [==============================] - 3s 18ms/step - loss: 0.0589 - accuracy: 0.9827 - val_loss: 0.1952 - val_accuracy: 0.9617\n",
      "Epoch 9/15\n",
      "182/182 [==============================] - 3s 19ms/step - loss: 0.0618 - accuracy: 0.9823 - val_loss: 0.2937 - val_accuracy: 0.9633\n",
      "Epoch 10/15\n",
      "182/182 [==============================] - 3s 18ms/step - loss: 0.0617 - accuracy: 0.9833 - val_loss: 0.2449 - val_accuracy: 0.9593\n",
      "Epoch 11/15\n",
      "182/182 [==============================] - 3s 18ms/step - loss: 0.0917 - accuracy: 0.9776 - val_loss: 0.2062 - val_accuracy: 0.9646\n",
      "Epoch 12/15\n",
      "182/182 [==============================] - 3s 18ms/step - loss: 0.0704 - accuracy: 0.9836 - val_loss: 0.2657 - val_accuracy: 0.9675\n",
      "Epoch 13/15\n",
      "182/182 [==============================] - 3s 17ms/step - loss: 0.0749 - accuracy: 0.9829 - val_loss: 0.3200 - val_accuracy: 0.9626\n",
      "Epoch 14/15\n",
      "182/182 [==============================] - 3s 18ms/step - loss: 0.0789 - accuracy: 0.9833 - val_loss: 0.2471 - val_accuracy: 0.9651\n",
      "Epoch 15/15\n",
      "182/182 [==============================] - 4s 19ms/step - loss: 0.0764 - accuracy: 0.9850 - val_loss: 0.3794 - val_accuracy: 0.9567\n"
     ]
    }
   ],
   "source": [
    "history = model.fit(X_train,y_train,epochs=15, batch_size=128, validation_data=(X_test,y_test))"
   ]
  },
  {
   "cell_type": "code",
   "execution_count": 16,
   "id": "7fe92ee2",
   "metadata": {},
   "outputs": [
    {
     "name": "stdout",
     "output_type": "stream",
     "text": [
      "CNN Error: 4.33%\n"
     ]
    }
   ],
   "source": [
    "scores = model.evaluate(X_test,y_test, verbose=0)\n",
    "print(\"CNN Error: %.2f%%\" % (100-scores[1]*100))"
   ]
  },
  {
   "cell_type": "code",
   "execution_count": 17,
   "id": "4de098f5",
   "metadata": {},
   "outputs": [
    {
     "data": {
      "image/png": "[encoded data removed]",
      "text/plain": [
       "<Figure size 432x288 with 1 Axes>"
      ]
     },
     "metadata": {
      "needs_background": "light"
     },
     "output_type": "display_data"
    },
    {
     "data": {
      "image/png": "[encoded data removed]",
      "text/plain": [
       "<Figure size 432x288 with 1 Axes>"
      ]
     },
     "metadata": {
      "needs_background": "light"
     },
     "output_type": "display_data"
    }
   ],
   "source": [
    "plt.figure(1)\n",
    "plt.plot(history.history['loss'])\n",
    "plt.plot(history.history['val_loss'])\n",
    "plt.legend(['training','validation'])\n",
    "plt.title('Loss')\n",
    "plt.xlabel('epoch')\n",
    "plt.figure(2)\n",
    "plt.plot(history.history['accuracy'])\n",
    "plt.plot(history.history['val_accuracy'])\n",
    "plt.legend(['training','validation'])\n",
    "plt.title('Accuracy')\n",
    "plt.xlabel('epoch')\n",
    "plt.show()"
   ]
  },
  {
   "cell_type": "code",
   "execution_count": 18,
   "id": "3fa2ecfa",
   "metadata": {},
   "outputs": [
    {
     "name": "stdout",
     "output_type": "stream",
     "text": [
      "Model: \"sequential_1\"\n",
      "_________________________________________________________________\n",
      " Layer (type)                Output Shape              Param #   \n",
      "=================================================================\n",
      " conv2d_1 (Conv2D)           (None, 28, 28, 64)        1664      \n",
      "                                                                 \n",
      " conv2d_2 (Conv2D)           (None, 28, 28, 64)        102464    \n",
      "                                                                 \n",
      " max_pooling2d_1 (MaxPooling  (None, 14, 14, 64)       0         \n",
      " 2D)                                                             \n",
      "                                                                 \n",
      " conv2d_3 (Conv2D)           (None, 14, 14, 128)       73856     \n",
      "                                                                 \n",
      " conv2d_4 (Conv2D)           (None, 14, 14, 128)       147584    \n",
      "                                                                 \n",
      " conv2d_5 (Conv2D)           (None, 14, 14, 128)       147584    \n",
      "                                                                 \n",
      " conv2d_6 (Conv2D)           (None, 14, 14, 128)       147584    \n",
      "                                                                 \n",
      " max_pooling2d_2 (MaxPooling  (None, 7, 7, 128)        0         \n",
      " 2D)                                                             \n",
      "                                                                 \n",
      " dropout (Dropout)           (None, 7, 7, 128)         0         \n",
      "                                                                 \n",
      " flatten_1 (Flatten)         (None, 6272)              0         \n",
      "                                                                 \n",
      " dense_2 (Dense)             (None, 128)               802944    \n",
      "                                                                 \n",
      " dense_3 (Dense)             (None, 128)               16512     \n",
      "                                                                 \n",
      " dense_4 (Dense)             (None, 128)               16512     \n",
      "                                                                 \n",
      " dense_5 (Dense)             (None, 26)                3354      \n",
      "                                                                 \n",
      "=================================================================\n",
      "Total params: 1,460,058\n",
      "Trainable params: 1,460,058\n",
      "Non-trainable params: 0\n",
      "_________________________________________________________________\n",
      "None\n"
     ]
    }
   ],
   "source": [
    "model2 = Sequential()\n",
    "model2.add(Conv2D(64, (5, 5), input_shape=(28, 28, 1), activation='relu', padding=\"same\"))\n",
    "model2.add(Conv2D(64, (5, 5), input_shape=(28, 28, 1), activation='relu',padding=\"same\"))\n",
    "model2.add(MaxPooling2D(pool_size=(2, 2)))\n",
    "\n",
    "model2.add(Conv2D(128, (3, 3), activation='relu', padding=\"same\"))\n",
    "model2.add(Conv2D(128, (3, 3), activation='relu', padding=\"same\"))\n",
    "model2.add(Conv2D(128, (3, 3), activation='relu', padding=\"same\"))\n",
    "model2.add(Conv2D(128, (3, 3), activation='relu', padding=\"same\"))\n",
    "model2.add(MaxPooling2D(pool_size=(2, 2)))\n",
    "model2.add(Dropout(0.2))\n",
    "\n",
    "model2.add(Flatten())\n",
    "model2.add(Dense(128, activation='relu'))\n",
    "model2.add(Dense(128, activation='relu'))\n",
    "model2.add(Dense(128, activation='relu'))\n",
    "model2.add(Dense(num_classes, activation='softmax'))\n",
    "\n",
    "model2.compile(loss='categorical_crossentropy', optimizer='adam', metrics=['accuracy'])\n",
    "print(model2.summary())"
   ]
  },
  {
   "cell_type": "code",
   "execution_count": 20,
   "id": "c7e11e78",
   "metadata": {},
   "outputs": [
    {
     "name": "stdout",
     "output_type": "stream",
     "text": [
      "Epoch 1/15\n",
      "182/182 [==============================] - 108s 594ms/step - loss: 0.3093 - accuracy: 0.9133 - val_loss: 0.1573 - val_accuracy: 0.9579\n",
      "Epoch 2/15\n",
      "182/182 [==============================] - 103s 565ms/step - loss: 0.1623 - accuracy: 0.9531 - val_loss: 0.1970 - val_accuracy: 0.9504\n",
      "Epoch 3/15\n",
      "182/182 [==============================] - 106s 582ms/step - loss: 0.1416 - accuracy: 0.9629 - val_loss: 0.1024 - val_accuracy: 0.9741\n",
      "Epoch 4/15\n",
      "182/182 [==============================] - 106s 583ms/step - loss: 0.0714 - accuracy: 0.9790 - val_loss: 0.0841 - val_accuracy: 0.9785\n",
      "Epoch 5/15\n",
      "182/182 [==============================] - 107s 589ms/step - loss: 0.0551 - accuracy: 0.9825 - val_loss: 0.0748 - val_accuracy: 0.9820\n",
      "Epoch 6/15\n",
      "182/182 [==============================] - 118s 648ms/step - loss: 0.0438 - accuracy: 0.9868 - val_loss: 0.0932 - val_accuracy: 0.9777\n",
      "Epoch 7/15\n",
      "182/182 [==============================] - 107s 589ms/step - loss: 0.0593 - accuracy: 0.9821 - val_loss: 0.0849 - val_accuracy: 0.9820\n",
      "Epoch 8/15\n",
      "182/182 [==============================] - 110s 603ms/step - loss: 0.0323 - accuracy: 0.9901 - val_loss: 0.0768 - val_accuracy: 0.9816\n",
      "Epoch 9/15\n",
      "182/182 [==============================] - 101s 557ms/step - loss: 0.0611 - accuracy: 0.9825 - val_loss: 0.1622 - val_accuracy: 0.9686\n",
      "Epoch 10/15\n",
      "182/182 [==============================] - 101s 554ms/step - loss: 0.0480 - accuracy: 0.9857 - val_loss: 0.0774 - val_accuracy: 0.9857\n",
      "Epoch 11/15\n",
      "182/182 [==============================] - 101s 556ms/step - loss: 0.0286 - accuracy: 0.9910 - val_loss: 0.0741 - val_accuracy: 0.9844\n",
      "Epoch 12/15\n",
      "182/182 [==============================] - 101s 557ms/step - loss: 0.0225 - accuracy: 0.9923 - val_loss: 0.0856 - val_accuracy: 0.9804\n",
      "Epoch 13/15\n",
      "182/182 [==============================] - 101s 556ms/step - loss: 0.0232 - accuracy: 0.9933 - val_loss: 0.0627 - val_accuracy: 0.9857\n",
      "Epoch 14/15\n",
      "182/182 [==============================] - 101s 558ms/step - loss: 0.0195 - accuracy: 0.9937 - val_loss: 0.0601 - val_accuracy: 0.9849\n",
      "Epoch 15/15\n",
      "182/182 [==============================] - 102s 559ms/step - loss: 0.0205 - accuracy: 0.9944 - val_loss: 0.0778 - val_accuracy: 0.9806\n"
     ]
    }
   ],
   "source": [
    "history2 = model2.fit(X_train,y_train,epochs=15, batch_size=128, validation_data=(X_test,y_test))"
   ]
  },
  {
   "cell_type": "code",
   "execution_count": 21,
   "id": "37d2129c",
   "metadata": {},
   "outputs": [
    {
     "data": {
      "image/png": "[encoded data removed]",
      "text/plain": [
       "<Figure size 432x288 with 1 Axes>"
      ]
     },
     "metadata": {
      "needs_background": "light"
     },
     "output_type": "display_data"
    },
    {
     "data": {
      "image/png": "[encoded data removed]",
      "text/plain": [
       "<Figure size 432x288 with 1 Axes>"
      ]
     },
     "metadata": {
      "needs_background": "light"
     },
     "output_type": "display_data"
    }
   ],
   "source": [
    "plt.figure(1)\n",
    "plt.plot(history2.history['loss'])\n",
    "plt.plot(history2.history['val_loss'])\n",
    "plt.legend(['training','validation'])\n",
    "plt.title('Loss')\n",
    "plt.xlabel('epoch')\n",
    "plt.figure(2)\n",
    "plt.plot(history2.history['accuracy'])\n",
    "plt.plot(history2.history['val_accuracy'])\n",
    "plt.legend(['training','validation'])\n",
    "plt.title('Accuracy')\n",
    "plt.xlabel('epoch')\n",
    "plt.show()"
   ]
  },
  {
   "cell_type": "code",
   "execution_count": 22,
   "id": "cfe4331b",
   "metadata": {},
   "outputs": [
    {
     "name": "stdout",
     "output_type": "stream",
     "text": [
      "182/182 [==============================] - 6s 35ms/step - loss: 0.0778 - accuracy: 0.9806\n",
      "CNN Error: 1.94%\n"
     ]
    }
   ],
   "source": [
    "scores = model2.evaluate(X_test,y_test, verbose=1)\n",
    "print(\"CNN Error: %.2f%%\" % (100-scores[1]*100))"
   ]
  },
  {
   "cell_type": "code",
   "execution_count": null,
   "id": "461454c0",
   "metadata": {},
   "outputs": [],
   "source": []
  }
 ],
 "metadata": {
  "kernelspec": {
   "display_name": "Python 3",
   "language": "python",
   "name": "python3"
  },
  "language_info": {
   "codemirror_mode": {
    "name": "ipython",
    "version": 3
   },
   "file_extension": ".py",
   "mimetype": "text/x-python",
   "name": "python",
   "nbconvert_exporter": "python",
   "pygments_lexer": "ipython3",
   "version": "3.8.8"
  }
 },
 "nbformat": 4,
 "nbformat_minor": 5
}
